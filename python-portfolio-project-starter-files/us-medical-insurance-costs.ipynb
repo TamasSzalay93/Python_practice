{
 "cells": [
  {
   "cell_type": "markdown",
   "metadata": {},
   "source": [
    "# U.S. Medical Insurance Costs"
   ]
  },
  {
   "cell_type": "code",
   "execution_count": 3,
   "metadata": {
    "scrolled": false
   },
   "outputs": [
    {
     "name": "stdout",
     "output_type": "stream",
     "text": [
      "{'Age': '19', 'Sex': 'female', 'BMI': '27.9', 'Children': '0', 'Smoker': 'yes', 'Region': 'southwest', 'Charges': '16884.924'} {'Age': '18', 'Sex': 'male', 'BMI': '33.77', 'Children': '1', 'Smoker': 'no', 'Region': 'southeast', 'Charges': '1725.5523'}\n"
     ]
    }
   ],
   "source": [
    "import csv\n",
    "\n",
    "\n",
    "age_in = []\n",
    "sex_in = []\n",
    "bmi_in = []\n",
    "children_in = []\n",
    "smoker_in = []\n",
    "region_in = []\n",
    "charges_in = []\n",
    "\n",
    "\n",
    "\n",
    "with open('insurance.csv', newline='') as insurance:\n",
    "    insurance_dict = csv.DictReader(insurance)\n",
    "    for rows in insurance_dict:\n",
    "        age_in.append(rows['age'])\n",
    "        sex_in.append(rows['sex'])\n",
    "        bmi_in.append(rows['bmi'])\n",
    "        children_in.append(rows['children'])\n",
    "        smoker_in.append(rows['smoker'])\n",
    "        region_in.append(rows['region'])\n",
    "        charges_in.append(rows['charges'])\n",
    "        \n",
    "\n",
    "#making a nested dictionary, where the first primary key will be an ID number from 1 to the end of the data and the nested dictionary has each column of the data.\n",
    "id_in = []\n",
    "\n",
    "for i in range(0,len(age_in)):\n",
    "    id_in.append(i)\n",
    "\n",
    "\n",
    "def create_dictionary(ids, age, sex, bmi, children, smoker, region, charges):\n",
    "    insurances_dic = dict()\n",
    "    num_insurances = len(age_in)\n",
    "    for i in range(num_insurances):\n",
    "        insurances_dic[id_in[i]] = {\"Age\": age_in[i],\n",
    "                              \"Sex\": sex_in[i],\n",
    "                              \"BMI\": bmi_in[i],\n",
    "                              \"Children\": children_in[i],\n",
    "                              \"Smoker\": smoker_in[i],\n",
    "                              \"Region\": region_in[i],\n",
    "                              \"Charges\": charges_in[i]}\n",
    "    return insurances_dic\n",
    "\n",
    "\n",
    "insurances_dic = create_dictionary(id_in, age_in, sex_in, bmi_in, children_in, smoker_in, region_in, charges_in)\n",
    "\n",
    "      \n",
    "print(insurances_dic[0],insurances_dic[1])        \n",
    "\n",
    "#lets see, the different region and how many "
   ]
  },
  {
   "cell_type": "code",
   "execution_count": 7,
   "metadata": {},
   "outputs": [
    {
     "name": "stdout",
     "output_type": "stream",
     "text": [
      "The total avarage age is 39.20702541106129\n",
      "Total insurance data from each region is {} from Northest\n"
     ]
    }
   ],
   "source": [
    "#average age in the data and avg age in each region\n",
    "\n",
    "def avg_age(data):\n",
    "    age_sum = 0\n",
    "    for i in age_in:\n",
    "        age_sum += float(i)\n",
    "    age_avg = age_sum / (len(age_in))\n",
    "    return age_avg\n",
    "\n",
    "print('The total avarage age is ' + str(avg_age(age_in)))\n",
    "\n",
    "\n",
    "#avg age in each region\n",
    "\n",
    "\n",
    "age_sum_northeast = 0\n",
    "age_sum_northwest = 0\n",
    "age_sum_southeast = 0\n",
    "age_sum_southwest = 0\n",
    "age_count_northeast = 0\n",
    "age_count_northwest = 0\n",
    "age_count_southeast = 0\n",
    "age_count_southwest = 0\n",
    "\n",
    "\n",
    "for i in insurances_dic:\n",
    "    if insurances_dic[i]['Region'] == 'northeast':\n",
    "        age_sum_northeast += float(insurances_dic[i]['Age'])\n",
    "        age_count_northeast += 1\n",
    "    elif insurances_dic[i]['Region'] == 'northwest':\n",
    "        age_sum_northwest += float(insurances_dic[i]['Age'])\n",
    "        age_count_northwest += 1\n",
    "    elif insurances_dic[i]['Region'] == 'southeast':\n",
    "        age_sum_southeast += float(insurances_dic[i]['Age'])\n",
    "        age_count_southeast += 1\n",
    "    elif insurances_dic[i]['Region'] == 'southwest':\n",
    "        age_sum_southwest += float(insurances_dic[i]['Age'])\n",
    "        age_count_southwest += 1\n",
    "print('Total insurance data from each region is {} from Northest')"
   ]
  },
  {
   "cell_type": "code",
   "execution_count": 8,
   "metadata": {},
   "outputs": [
    {
     "name": "stdout",
     "output_type": "stream",
     "text": [
      "Avarage age in the Northest Region is 39.26851851851852\n",
      "Avarage age in the northwest Region is 39.19692307692308\n",
      "Avarage age in the southeast Region is 38.93956043956044\n",
      "Avarage age in the southwest Region is 39.45538461538462\n"
     ]
    }
   ],
   "source": [
    "def avg_age_region(sum_age,count_age):\n",
    "    avg_age_region = sum_age / count_age\n",
    "    return avg_age_region\n",
    "\n",
    "\n",
    "    \n",
    "print('Avarage age in the Northest Region is ' + str(avg_age_region(age_sum_northeast,age_count_northeast)))\n",
    "print('Avarage age in the northwest Region is ' + str(avg_age_region(age_sum_northwest,age_count_northwest)))\n",
    "print('Avarage age in the southeast Region is ' + str(avg_age_region(age_sum_southeast,age_count_southeast)))\n",
    "print('Avarage age in the southwest Region is ' + str(avg_age_region(age_sum_southwest,age_count_southwest)))"
   ]
  },
  {
   "cell_type": "code",
   "execution_count": 9,
   "metadata": {},
   "outputs": [
    {
     "name": "stdout",
     "output_type": "stream",
     "text": [
      "30392.0 764\n",
      "Avarage age with at least one child is 39.78010471204188\n"
     ]
    }
   ],
   "source": [
    "#avg age with at least one child\n",
    "\n",
    "age_sum_oneChild = 0\n",
    "age_count_oneChild = 0\n",
    "\n",
    "\n",
    "for i in insurances_dic:\n",
    "    if float(insurances_dic[i]['Children']) > 0:\n",
    "        age_sum_oneChild += float(insurances_dic[i]['Age'])\n",
    "        age_count_oneChild += 1\n",
    "\n",
    "        \n",
    "        \n",
    "print(age_sum_oneChild,age_count_oneChild)\n",
    "print('Avarage age with at least one child is ' + str(avg_age_region(age_sum_oneChild,age_count_oneChild)))\n",
    "\n",
    "\n",
    "#avg age for with just one child"
   ]
  },
  {
   "cell_type": "code",
   "execution_count": 79,
   "metadata": {},
   "outputs": [
    {
     "name": "stdout",
     "output_type": "stream",
     "text": [
      "32050.23183153285\n",
      "8434.268297856199\n"
     ]
    }
   ],
   "source": [
    "#lets explore the smokers and non-somers difference\n",
    "\n",
    "smoker_charge = 0\n",
    "smoker_count = 0\n",
    "nonSmoker_charge = 0\n",
    "nonSmoker_count = 0\n",
    "\n",
    "\n",
    "\n",
    "for i in insurances_dic:\n",
    "    if insurances_dic[i]['Smoker'] == 'yes':\n",
    "        smoker_charge += float(insurances_dic[i]['Charges'])\n",
    "        smoker_count += 1\n",
    "    elif insurances_dic[i]['Smoker'] == 'no':\n",
    "        nonSmoker_charge += float(insurances_dic[i]['Charges'])\n",
    "        nonSmoker_count += 1\n",
    " \n",
    " \n",
    "print(avg_age_region(smoker_charge,smoker_count))\n",
    "print(avg_age_region(nonSmoker_charge,nonSmoker_count))\n"
   ]
  },
  {
   "cell_type": "code",
   "execution_count": 10,
   "metadata": {},
   "outputs": [
    {
     "name": "stdout",
     "output_type": "stream",
     "text": [
      "(29.17350308641976, 29.199784615384626, 33.35598901098903, 30.59661538461538)\n"
     ]
    }
   ],
   "source": [
    "#this function can return the avg value of any intreges data.\n",
    "\n",
    "def region_data(insurances_dic, value):\n",
    "    sum_northeast = 0\n",
    "    sum_northwest = 0\n",
    "    sum_southeast = 0\n",
    "    sum_southwest = 0\n",
    "    count_northeast = 0\n",
    "    count_northwest = 0\n",
    "    count_southeast = 0\n",
    "    count_southwest = 0\n",
    "    \n",
    "    for i in insurances_dic:\n",
    "        if insurances_dic[i]['Region'] == 'northeast':\n",
    "            sum_northeast += float(insurances_dic[i][value])\n",
    "            count_northeast += 1\n",
    "        elif insurances_dic[i]['Region'] == 'northwest':\n",
    "            sum_northwest += float(insurances_dic[i][value])\n",
    "            count_northwest += 1\n",
    "        elif insurances_dic[i]['Region'] == 'southeast':\n",
    "            sum_southeast += float(insurances_dic[i][value])\n",
    "            count_southeast += 1\n",
    "        elif insurances_dic[i]['Region'] == 'southwest':\n",
    "            sum_southwest += float(insurances_dic[i][value])\n",
    "            count_southwest += 1\n",
    "        \n",
    "    avg_northeast = avg_age_region(sum_northeast,count_northeast)\n",
    "    avg_northwest = avg_age_region(sum_northwest,count_northwest)\n",
    "    avg_southeast = avg_age_region(sum_southeast,count_southeast)\n",
    "    avg_southwest = avg_age_region(sum_southwest,count_southwest)\n",
    "    return avg_northeast, avg_northwest, avg_southeast, avg_southwest\n",
    "\n",
    "\n",
    "\n",
    "print(region_data(insurances_dic, 'BMI'))"
   ]
  },
  {
   "cell_type": "code",
   "execution_count": null,
   "metadata": {},
   "outputs": [],
   "source": []
  }
 ],
 "metadata": {
  "kernelspec": {
   "display_name": "Python 3 (ipykernel)",
   "language": "python",
   "name": "python3"
  },
  "language_info": {
   "codemirror_mode": {
    "name": "ipython",
    "version": 3
   },
   "file_extension": ".py",
   "mimetype": "text/x-python",
   "name": "python",
   "nbconvert_exporter": "python",
   "pygments_lexer": "ipython3",
   "version": "3.9.13"
  }
 },
 "nbformat": 4,
 "nbformat_minor": 4
}
